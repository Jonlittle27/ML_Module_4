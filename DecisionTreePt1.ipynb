{
 "cells": [
  {
   "cell_type": "markdown",
   "metadata": {},
   "source": [
    "### Student Name: "
   ]
  },
  {
   "cell_type": "code",
   "execution_count": 11,
   "metadata": {},
   "outputs": [],
   "source": [
    "#import the required modules\n",
    "import pandas as pd\n",
    "from sklearn.tree import DecisionTreeClassifier \n",
    "from sklearn.model_selection import train_test_split \n",
    "from sklearn.metrics import accuracy_score"
   ]
  },
  {
   "cell_type": "markdown",
   "metadata": {},
   "source": [
    "### Step 1 – Load the data and extract the features"
   ]
  },
  {
   "cell_type": "code",
   "execution_count": 6,
   "metadata": {},
   "outputs": [],
   "source": [
    "features = ['VendorID', 'RatecodeID', 'PULocationID', 'DOLocationID', 'passenger_count', \n",
    "            'trip_distance', 'fare_amount', 'extra', 'mta_tax', 'tolls_amount', \n",
    "            'improvement_surcharge', 'total_amount', 'trip_type', 'congestion_surcharge', 'tip']\n",
    "\n",
    "file_path = 'data/trip_data.csv' #TODO: provide the file path or URL to the dataset `trip_data.csv`\n",
    "df = pd.read_csv(file_path, usecols=features)\n",
    "\n",
    "#after the data is loaded in the dataframe, you would normally perform preliminary analysis to verify the data.\n",
    "# For example, using df.head() and df.describe() but you can skip that step for now. \n",
    "\n",
    "#assign the input features to a variable called 'X' and the labels in a variable called 'y'\n",
    "X = df.iloc[:,0:14].to_numpy() #input features\n",
    "y = df.iloc[:,14].tolist() #labels"
   ]
  },
  {
   "cell_type": "markdown",
   "metadata": {},
   "source": [
    "### Step 2 – Split the data\n",
    "Hint: use the [train_test_split](https://scikit-learn.org/stable/modules/generated/sklearn.model_selection.train_test_split.html) method from scikit-learn."
   ]
  },
  {
   "cell_type": "code",
   "execution_count": 7,
   "metadata": {},
   "outputs": [],
   "source": [
    "seed = 42#TODO: provide an integer for the random number generator.\n",
    "\n",
    "#Split the dataset into training set and test set\n",
    "X_train, X_test, y_train, y_test = train_test_split(X, y,\n",
    "                                                    test_size = .3, #TODO: provide the test_size (refer to the instructions for the assignment)\n",
    "                                                    random_state = seed, #seed the random generator for reproducibilty\n",
    "                                                    stratify = y #TODO: provide the variable\n",
    "                                                   )\n",
    "\n",
    "#Note: X_train and y_train are the input features and labels for the training set respectively.\n",
    "#Note: X_test and y_test are the input features and labels for the test set respectively."
   ]
  },
  {
   "cell_type": "markdown",
   "metadata": {},
   "source": [
    "### Step 3 - Create the decision tree\n",
    "Hint: use the [DecisionTreeClassifier](https://scikit-learn.org/stable/modules/generated/sklearn.tree.DecisionTreeClassifier.html#sklearn.tree.DecisionTreeClassifier) in scikit-learn. Here is an example on how to use build a [decision tree for classification](https://scikit-learn.org/stable/modules/tree.html#classification)."
   ]
  },
  {
   "cell_type": "code",
   "execution_count": 8,
   "metadata": {},
   "outputs": [],
   "source": [
    "#Instantiate the Decision Tree Classifier object \n",
    "dt_classifier = DecisionTreeClassifier(criterion= 'entropy', #TODO: choose either 'gini' or 'entropy'\n",
    "                                       max_depth= 5 #TODO: set the value (refer to the instructions above)\n",
    "                                      )\n",
    "\n",
    "#TODO: Train Decision Tree Classifier using the `fit` method\n",
    "dt_classifier.fit(X_train, y_train)\n",
    "\n",
    "#TODO: Make predictions with `X_test` and store the result in a variable called `y_pred`\n",
    "y_pred = dt_classifier.predict(X_test)"
   ]
  },
  {
   "cell_type": "markdown",
   "metadata": {},
   "source": [
    "#### Evaluate the prediction accuracy\n",
    "Hint: use the [accuracy_score](https://scikit-learn.org/stable/modules/generated/sklearn.metrics.accuracy_score.html#sklearn.metrics.accuracy_score) to determine how many observations were classified correctly. Use `y_test` and `y_pred` for the calculations."
   ]
  },
  {
   "cell_type": "code",
   "execution_count": 12,
   "metadata": {},
   "outputs": [
    {
     "data": {
      "text/plain": [
       "0.6623693852625865"
      ]
     },
     "execution_count": 12,
     "metadata": {},
     "output_type": "execute_result"
    }
   ],
   "source": [
    "#TODO: calculate and display the accuracy score using `y_test` and `y_pred`\n",
    "accuracy_score(y_test,y_pred)"
   ]
  },
  {
   "cell_type": "markdown",
   "metadata": {},
   "source": [
    "### Step 4 - Visualize the decision tree\n",
    "Hint: use the export_graphviz method. An [example is shown here](https://scikit-learn.org/stable/modules/tree.html#classification). Alternatively, you may use your preferred library/tool to display the tree."
   ]
  },
  {
   "cell_type": "code",
   "execution_count": 22,
   "metadata": {},
   "outputs": [
    {
     "data": {
      "text/plain": [
       "[Text(166.70250000000001, 199.32, 'X[11] <= 7.275\\nentropy = 1.848\\nsamples = 120358\\nvalue = [19748, 27982, 18306, 54322]'),\n",
       " Text(87.885, 163.07999999999998, 'X[11] <= 6.835\\nentropy = 1.758\\nsamples = 9999\\nvalue = [4726, 1800, 2664, 809]'),\n",
       " Text(44.64, 126.83999999999999, 'X[6] <= 4.75\\nentropy = 1.883\\nsamples = 7154\\nvalue = [2185, 1513, 2648, 808]'),\n",
       " Text(22.32, 90.6, 'X[11] <= 5.945\\nentropy = 1.853\\nsamples = 5113\\nvalue = [2183, 1281, 1069, 580]'),\n",
       " Text(11.16, 54.359999999999985, 'X[6] <= 4.25\\nentropy = 1.603\\nsamples = 2411\\nvalue = [178, 1078, 976, 179]'),\n",
       " Text(5.58, 18.119999999999976, 'entropy = 1.642\\nsamples = 1932\\nvalue = [178, 1011, 564, 179]'),\n",
       " Text(16.740000000000002, 18.119999999999976, 'entropy = 0.584\\nsamples = 479\\nvalue = [0, 67, 412, 0]'),\n",
       " Text(33.480000000000004, 54.359999999999985, 'X[7] <= 0.75\\nentropy = 1.176\\nsamples = 2702\\nvalue = [2005, 203, 93, 401]'),\n",
       " Text(27.9, 18.119999999999976, 'entropy = 0.923\\nsamples = 2409\\nvalue = [1916, 151, 3, 339]'),\n",
       " Text(39.06, 18.119999999999976, 'entropy = 1.962\\nsamples = 293\\nvalue = [89, 52, 90, 62]'),\n",
       " Text(66.96000000000001, 90.6, 'X[6] <= 5.25\\nentropy = 1.006\\nsamples = 2041\\nvalue = [2, 232, 1579, 228]'),\n",
       " Text(55.8, 54.359999999999985, 'X[11] <= 6.74\\nentropy = 1.369\\nsamples = 1052\\nvalue = [2, 182, 640, 228]'),\n",
       " Text(50.22, 18.119999999999976, 'entropy = 0.857\\nsamples = 698\\nvalue = [2, 176, 519, 1]'),\n",
       " Text(61.38, 18.119999999999976, 'entropy = 1.04\\nsamples = 354\\nvalue = [0, 6, 121, 227]'),\n",
       " Text(78.12, 54.359999999999985, 'X[11] <= 6.805\\nentropy = 0.289\\nsamples = 989\\nvalue = [0, 50, 939, 0]'),\n",
       " Text(72.54, 18.119999999999976, 'entropy = 0.228\\nsamples = 975\\nvalue = [0, 36, 939, 0]'),\n",
       " Text(83.7, 18.119999999999976, 'entropy = 0.0\\nsamples = 14\\nvalue = [0, 14, 0, 0]'),\n",
       " Text(131.13, 126.83999999999999, 'X[6] <= 5.25\\nentropy = 0.526\\nsamples = 2845\\nvalue = [2541, 287, 16, 1]'),\n",
       " Text(111.6, 90.6, 'X[11] <= 6.975\\nentropy = 0.292\\nsamples = 2671\\nvalue = [2538, 131, 1, 1]'),\n",
       " Text(100.44, 54.359999999999985, 'X[11] <= 6.94\\nentropy = 0.095\\nsamples = 2052\\nvalue = [2027, 25, 0, 0]'),\n",
       " Text(94.86, 18.119999999999976, 'entropy = 0.394\\nsamples = 322\\nvalue = [297, 25, 0, 0]'),\n",
       " Text(106.02, 18.119999999999976, 'entropy = 0.0\\nsamples = 1730\\nvalue = [1730, 0, 0, 0]'),\n",
       " Text(122.76, 54.359999999999985, 'X[11] <= 7.245\\nentropy = 0.694\\nsamples = 619\\nvalue = [511, 106, 1, 1]'),\n",
       " Text(117.18, 18.119999999999976, 'entropy = 0.983\\nsamples = 248\\nvalue = [143, 105, 0, 0]'),\n",
       " Text(128.34, 18.119999999999976, 'entropy = 0.081\\nsamples = 371\\nvalue = [368, 1, 1, 1]'),\n",
       " Text(150.66, 90.6, 'X[8] <= 0.25\\nentropy = 0.547\\nsamples = 174\\nvalue = [3, 156, 15, 0]'),\n",
       " Text(145.08, 54.359999999999985, 'X[11] <= 7.005\\nentropy = 0.913\\nsamples = 19\\nvalue = [3, 1, 15, 0]'),\n",
       " Text(139.5, 18.119999999999976, 'entropy = 0.0\\nsamples = 15\\nvalue = [0, 0, 15, 0]'),\n",
       " Text(150.66, 18.119999999999976, 'entropy = 0.811\\nsamples = 4\\nvalue = [3, 1, 0, 0]'),\n",
       " Text(156.24, 54.359999999999985, 'entropy = 0.0\\nsamples = 155\\nvalue = [0, 155, 0, 0]'),\n",
       " Text(245.52, 163.07999999999998, 'X[11] <= 9.975\\nentropy = 1.79\\nsamples = 110359\\nvalue = [15022, 26182, 15642, 53513]'),\n",
       " Text(200.88, 126.83999999999999, 'X[6] <= 7.65\\nentropy = 1.134\\nsamples = 27296\\nvalue = [1618, 853, 4385, 20440]'),\n",
       " Text(178.56, 90.6, 'X[11] <= 8.815\\nentropy = 1.009\\nsamples = 25351\\nvalue = [1618, 709, 2798, 20226]'),\n",
       " Text(167.4, 54.359999999999985, 'X[6] <= 6.25\\nentropy = 0.985\\nsamples = 15920\\nvalue = [341, 508, 2631, 12440]'),\n",
       " Text(161.82, 18.119999999999976, 'entropy = 0.621\\nsamples = 11807\\nvalue = [341, 279, 562, 10625]'),\n",
       " Text(172.98, 18.119999999999976, 'entropy = 1.251\\nsamples = 4113\\nvalue = [0, 229, 2069, 1815]'),\n",
       " Text(189.72, 54.359999999999985, 'X[11] <= 8.845\\nentropy = 0.84\\nsamples = 9431\\nvalue = [1277, 201, 167, 7786]'),\n",
       " Text(184.14000000000001, 18.119999999999976, 'entropy = 0.037\\nsamples = 512\\nvalue = [510, 2, 0, 0]'),\n",
       " Text(195.3, 18.119999999999976, 'entropy = 0.705\\nsamples = 8919\\nvalue = [767, 199, 167, 7786]'),\n",
       " Text(223.2, 90.6, 'X[6] <= 8.25\\nentropy = 0.868\\nsamples = 1945\\nvalue = [0, 144, 1587, 214]'),\n",
       " Text(212.04, 54.359999999999985, 'X[11] <= 9.305\\nentropy = 1.139\\nsamples = 1040\\nvalue = [0, 94, 732, 214]'),\n",
       " Text(206.46, 18.119999999999976, 'entropy = 0.453\\nsamples = 643\\nvalue = [0, 42, 592, 9]'),\n",
       " Text(217.62, 18.119999999999976, 'entropy = 1.407\\nsamples = 397\\nvalue = [0, 52, 140, 205]'),\n",
       " Text(234.36, 54.359999999999985, 'X[11] <= 9.805\\nentropy = 0.308\\nsamples = 905\\nvalue = [0, 50, 855, 0]'),\n",
       " Text(228.78, 18.119999999999976, 'entropy = 0.192\\nsamples = 881\\nvalue = [0, 26, 855, 0]'),\n",
       " Text(239.94, 18.119999999999976, 'entropy = 0.0\\nsamples = 24\\nvalue = [0, 24, 0, 0]'),\n",
       " Text(290.16, 126.83999999999999, 'X[11] <= 12.555\\nentropy = 1.867\\nsamples = 83063\\nvalue = [13404, 25329, 11257, 33073]'),\n",
       " Text(267.84000000000003, 90.6, 'X[6] <= 9.95\\nentropy = 1.613\\nsamples = 20812\\nvalue = [6557, 10323, 3188, 744]'),\n",
       " Text(256.68, 54.359999999999985, 'X[11] <= 12.055\\nentropy = 1.443\\nsamples = 18147\\nvalue = [6531, 9784, 1114, 718]'),\n",
       " Text(251.1, 18.119999999999976, 'entropy = 1.379\\nsamples = 14861\\nvalue = [3832, 9376, 1083, 570]'),\n",
       " Text(262.26, 18.119999999999976, 'entropy = 0.872\\nsamples = 3286\\nvalue = [2699, 408, 31, 148]'),\n",
       " Text(279.0, 54.359999999999985, 'X[11] <= 12.305\\nentropy = 0.878\\nsamples = 2665\\nvalue = [26, 539, 2074, 26]'),\n",
       " Text(273.42, 18.119999999999976, 'entropy = 0.746\\nsamples = 2541\\nvalue = [0, 442, 2073, 26]'),\n",
       " Text(284.58, 18.119999999999976, 'entropy = 0.806\\nsamples = 124\\nvalue = [26, 97, 1, 0]'),\n",
       " Text(312.48, 90.6, 'X[6] <= 11.92\\nentropy = 1.718\\nsamples = 62251\\nvalue = [6847, 15006, 8069, 32329]'),\n",
       " Text(301.32, 54.359999999999985, 'X[11] <= 16.28\\nentropy = 1.395\\nsamples = 20543\\nvalue = [2792, 4025, 513, 13213]'),\n",
       " Text(295.74, 18.119999999999976, 'entropy = 1.268\\nsamples = 16862\\nvalue = [1948, 2452, 506, 11956]'),\n",
       " Text(306.9, 18.119999999999976, 'entropy = 1.558\\nsamples = 3681\\nvalue = [844, 1573, 7, 1257]'),\n",
       " Text(323.64, 54.359999999999985, 'X[11] <= 15.305\\nentropy = 1.796\\nsamples = 41708\\nvalue = [4055, 10981, 7556, 19116]'),\n",
       " Text(318.06, 18.119999999999976, 'entropy = 1.067\\nsamples = 3066\\nvalue = [0, 614, 2235, 217]'),\n",
       " Text(329.22, 18.119999999999976, 'entropy = 1.749\\nsamples = 38642\\nvalue = [4055, 10367, 5321, 18899]')]"
      ]
     },
     "execution_count": 22,
     "metadata": {},
     "output_type": "execute_result"
    },
    {
     "data": {
      "image/png": "[encoded data removed]",
      "text/plain": [
       "<Figure size 432x288 with 1 Axes>"
      ]
     },
     "metadata": {
      "needs_background": "light"
     },
     "output_type": "display_data"
    }
   ],
   "source": [
    "#TODO: Display the decision tree\n",
    "from sklearn import tree\n",
    "tree.plot_tree(dt_classifier)"
   ]
  },
  {
   "cell_type": "markdown",
   "metadata": {},
   "source": [
    "### Summarize the results using one paragraph (2-5 sentences)"
   ]
  },
  {
   "cell_type": "code",
   "execution_count": null,
   "metadata": {},
   "outputs": [],
   "source": [
    "# Results\n",
    "\n",
    "# There are two main things that stick out to me with this problem to be solved using a decision tree classifier.  Number \n",
    "# one is that the model could definitely use some more feature selection.  As seen in the above image the tree is very \n",
    "# cluttered and perhaps finding variables that are more correlated with the target would see a cleaner model.  Number two, is \n",
    "# that the model scored at about 66% accuracy.  This is a solid starting value that shows me that with tuning and other\n",
    "# selection methods this problem could tackled using a decision tree classifier.\n"
   ]
  }
 ],
 "metadata": {
  "kernelspec": {
   "display_name": "Python 3",
   "language": "python",
   "name": "python3"
  },
  "language_info": {
   "codemirror_mode": {
    "name": "ipython",
    "version": 3
   },
   "file_extension": ".py",
   "mimetype": "text/x-python",
   "name": "python",
   "nbconvert_exporter": "python",
   "pygments_lexer": "ipython3",
   "version": "3.7.6"
  }
 },
 "nbformat": 4,
 "nbformat_minor": 2
}
